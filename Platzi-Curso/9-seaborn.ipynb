{
 "cells": [
  {
   "cell_type": "markdown",
   "metadata": {},
   "source": [
    "## Seaborn"
   ]
  },
  {
   "cell_type": "markdown",
   "metadata": {},
   "source": [
    "Seaborn es una librería construida sobre Matplotlib, por lo que hereda todas las bondades de la misma. Fue escrita por Michael Waskom y está integrada para estructuras de Pandas por lo que está optimizada para funcionar con DataFrames."
   ]
  },
  {
   "cell_type": "markdown",
   "metadata": {},
   "source": [
    "Estructura:\n",
    "\n",
    "```sh\n",
    "sns.'tipo de grafico'(\n",
    "\t\t data = 'dataset',\n",
    "\t\t x = 'data en el eje x',\n",
    "\t\t y = 'data en el eje y',\n",
    "\t\t hue = 'variable de agrupamiento')\n",
    "```"
   ]
  },
  {
   "cell_type": "markdown",
   "metadata": {},
   "source": [
    "Seaborn ofrece ciertas características principales para problemas específicos de visualización de datos:\n",
    "\n",
    "+ Diagramas o gráficas relacionables\n",
    "+ Distribución de datos\n",
    "+ Graficar variables categóricas\n",
    "\n",
    "Por ejemplo:\n",
    "\n",
    "Relplot (relacional): scatterplot, lineplot.<br>\n",
    "Displot (distribuciones): histplot, kdeplot, ecdfplot, rugplot.<br>\n",
    "Catplot (categorica): stripplot, swamplot, boxplot, violinplot, pointplot, barplot."
   ]
  }
 ],
 "metadata": {
  "kernelspec": {
   "display_name": "Python 3.8.10 ('venv': venv)",
   "language": "python",
   "name": "python3"
  },
  "language_info": {
   "name": "python",
   "version": "3.8.10"
  },
  "orig_nbformat": 4,
  "vscode": {
   "interpreter": {
    "hash": "7f0aeaea01e4622d4ae2e2ec6a2e2b48c271f11493a440361e130c83f797a937"
   }
  }
 },
 "nbformat": 4,
 "nbformat_minor": 2
}
