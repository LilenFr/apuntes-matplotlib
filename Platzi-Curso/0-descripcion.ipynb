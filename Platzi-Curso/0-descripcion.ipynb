{
 "cells": [
  {
   "cell_type": "markdown",
   "metadata": {},
   "source": [
    "## Curso Básico de Visualización de Datos con Matplotlib y Seaborn"
   ]
  },
  {
   "cell_type": "markdown",
   "metadata": {},
   "source": [
    "Descripción:<br>\n",
    "Aprende a crear gráficas de manera sencilla con Python. Utiliza Matplotlib y Seaborn, dos de sus librerías más usadas en data science, y aplica el gran poder que tienen las visualizaciones en el análisis de datos.\n",
    "\n",
    "+ Comprende los datos configurando los parámetros adecuados de la visualización.\n",
    "+ Agrega etiquetas, títulos, colores y otros estilos a las gráficas.<br>\n",
    "+ Crea diferente tipos de gráficas de forma rápida.<br>\n",
    "+ Aplica el método orientado a objetos de Matplotlib para detallar tus visualizaciones."
   ]
  },
  {
   "cell_type": "markdown",
   "metadata": {},
   "source": [
    "Los siguientes cuadernos dentro de esta carpeta son apuntes tomados durante el curso."
   ]
  }
 ],
 "metadata": {
  "language_info": {
   "name": "python"
  },
  "orig_nbformat": 4
 },
 "nbformat": 4,
 "nbformat_minor": 2
}
