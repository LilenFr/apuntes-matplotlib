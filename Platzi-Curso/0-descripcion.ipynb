{
 "cells": [
  {
   "cell_type": "markdown",
   "metadata": {},
   "source": [
    "## Curso Básico de Visualización de Datos con Matplotlib y Seaborn"
   ]
  },
  {
   "cell_type": "markdown",
   "metadata": {},
   "source": [
    "Descripción:<br>\n",
    "Aprende a crear gráficas de manera sencilla con Python. Utiliza Matplotlib y Seaborn, dos de sus librerías más usadas en data science, y aplica el gran poder que tienen las visualizaciones en el análisis de datos.\n",
    "\n",
    "+ Comprende los datos configurando los parámetros adecuados de la visualización.\n",
    "+ Agrega etiquetas, títulos, colores y otros estilos a las gráficas.<br>\n",
    "+ Crea diferente tipos de gráficas de forma rápida.<br>\n",
    "+ Aplica el método orientado a objetos de Matplotlib para detallar tus visualizaciones."
   ]
  },
  {
   "cell_type": "markdown",
   "metadata": {},
   "source": [
    "Los siguientes cuadernos dentro de esta carpeta son apuntes tomados durante el <a href='https://platzi.com/cursos/matplotlib-seaborn/'>curso</a>, no resúmenes de las clases."
   ]
  }
 ],
 "metadata": {
  "kernelspec": {
   "display_name": "Python 3.8.10 ('venv': venv)",
   "language": "python",
   "name": "python3"
  },
  "language_info": {
   "name": "python",
   "version": "3.8.10"
  },
  "orig_nbformat": 4,
  "vscode": {
   "interpreter": {
    "hash": "7f0aeaea01e4622d4ae2e2ec6a2e2b48c271f11493a440361e130c83f797a937"
   }
  }
 },
 "nbformat": 4,
 "nbformat_minor": 2
}
